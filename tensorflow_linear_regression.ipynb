{
 "cells": [
  {
   "cell_type": "code",
   "execution_count": 1,
   "metadata": {
    "collapsed": true
   },
   "outputs": [],
   "source": [
    "import tensorflow as tf\n",
    "import numpy as np\n",
    "import pandas as pd\n",
    "import matplotlib.pyplot as plt\n",
    "%matplotlib inline"
   ]
  },
  {
   "cell_type": "code",
   "execution_count": 2,
   "metadata": {},
   "outputs": [],
   "source": [
    "x_data = np.linspace(0.0, 10.0, 250)\n",
    "noise = np.random.randn(len(x_data))\n",
    "\n",
    "#y = mx + b (here m = 0.5 and b = 5)  \n",
    "y_data = (0.5*x_data) + 5 + noise"
   ]
  },
  {
   "cell_type": "code",
   "execution_count": 3,
   "metadata": {},
   "outputs": [
    {
     "data": {
      "text/html": [
       "<div>\n",
       "<style>\n",
       "    .dataframe thead tr:only-child th {\n",
       "        text-align: right;\n",
       "    }\n",
       "\n",
       "    .dataframe thead th {\n",
       "        text-align: left;\n",
       "    }\n",
       "\n",
       "    .dataframe tbody tr th {\n",
       "        vertical-align: top;\n",
       "    }\n",
       "</style>\n",
       "<table border=\"1\" class=\"dataframe\">\n",
       "  <thead>\n",
       "    <tr style=\"text-align: right;\">\n",
       "      <th></th>\n",
       "      <th>X</th>\n",
       "      <th>y</th>\n",
       "    </tr>\n",
       "  </thead>\n",
       "  <tbody>\n",
       "    <tr>\n",
       "      <th>0</th>\n",
       "      <td>0.000000</td>\n",
       "      <td>6.192537</td>\n",
       "    </tr>\n",
       "    <tr>\n",
       "      <th>1</th>\n",
       "      <td>0.040161</td>\n",
       "      <td>3.459877</td>\n",
       "    </tr>\n",
       "    <tr>\n",
       "      <th>2</th>\n",
       "      <td>0.080321</td>\n",
       "      <td>3.508637</td>\n",
       "    </tr>\n",
       "    <tr>\n",
       "      <th>3</th>\n",
       "      <td>0.120482</td>\n",
       "      <td>5.127742</td>\n",
       "    </tr>\n",
       "    <tr>\n",
       "      <th>4</th>\n",
       "      <td>0.160643</td>\n",
       "      <td>4.913428</td>\n",
       "    </tr>\n",
       "  </tbody>\n",
       "</table>\n",
       "</div>"
      ],
      "text/plain": [
       "          X         y\n",
       "0  0.000000  6.192537\n",
       "1  0.040161  3.459877\n",
       "2  0.080321  3.508637\n",
       "3  0.120482  5.127742\n",
       "4  0.160643  4.913428"
      ]
     },
     "execution_count": 3,
     "metadata": {},
     "output_type": "execute_result"
    }
   ],
   "source": [
    "final_data = pd.concat([pd.DataFrame(data=x_data, columns=['X']), pd.DataFrame(data=y_data, columns=['y'])], axis=1)\n",
    "final_data.head()"
   ]
  },
  {
   "cell_type": "code",
   "execution_count": 4,
   "metadata": {},
   "outputs": [
    {
     "data": {
      "image/png": "[encoded data removed]",
      "text/plain": [
       "<matplotlib.figure.Figure at 0x240ac9079e8>"
      ]
     },
     "metadata": {},
     "output_type": "display_data"
    }
   ],
   "source": [
    "y_hat = 0.5 * x_data + 5\n",
    "final_data.plot(kind='scatter', x='X', y='y', color='blue')\n",
    "plt.plot(final_data['X'],y_hat,'r')\n",
    "plt.show()"
   ]
  },
  {
   "cell_type": "code",
   "execution_count": 5,
   "metadata": {},
   "outputs": [],
   "source": [
    "#Parameter\n",
    "learning_rate = 0.01\n",
    "training_epoch = 1000\n",
    "display_step = 50\n",
    "\n",
    "#Training Data\n",
    "train_x = final_data['X']\n",
    "train_y = final_data['y']\n",
    "\n",
    "n_sample = train_x.shape[0]\n",
    "\n",
    "#tf Graph Input\n",
    "X = tf.placeholder(\"float32\")\n",
    "Y = tf.placeholder(\"float32\")\n",
    "\n",
    "#set model weights\n",
    "W = tf.Variable(0.5)\n",
    "b = tf.Variable(1.0)\n",
    "\n",
    "# Construct a linear model\n",
    "pred = tf.add(tf.multiply(W,X), b)\n",
    "\n",
    "# Mean Squared Error\n",
    "cost = tf.reduce_sum(tf.pow(pred - Y, 2)) / (2 * n_sample)\n",
    "# Gradient Descent\n",
    "optimizer = tf.train.GradientDescentOptimizer(learning_rate).minimize(cost)\n",
    "\n",
    "# Initialize all variables\n",
    "init = tf.global_variables_initializer()"
   ]
  },
  {
   "cell_type": "code",
   "execution_count": 8,
   "metadata": {},
   "outputs": [
    {
     "name": "stdout",
     "output_type": "stream",
     "text": [
      "Epoch: 50 , Cost = 1.961879373, W = 1.011196375, b = 1.540545702 \n",
      "Epoch: 100 , Cost = 1.636211991, W = 0.953179955, b = 1.938877463 \n",
      "Epoch: 150 , Cost = 1.381529450, W = 0.901872277, b = 2.291143656 \n",
      "Epoch: 200 , Cost = 1.182373762, W = 0.856500089, b = 2.602650404 \n",
      "Epoch: 250 , Cost = 1.026625395, W = 0.816375971, b = 2.878137589 \n",
      "Epoch: 300 , Cost = 0.904826939, W = 0.780890882, b = 3.121767044 \n",
      "Epoch: 350 , Cost = 0.809581280, W = 0.749510467, b = 3.337216854 \n",
      "Epoch: 400 , Cost = 0.735107541, W = 0.721762955, b = 3.527727604 \n",
      "Epoch: 450 , Cost = 0.676868856, W = 0.697223067, b = 3.696206331 \n",
      "Epoch: 500 , Cost = 0.631329954, W = 0.675523639, b = 3.845188379 \n",
      "Epoch: 550 , Cost = 0.595723212, W = 0.656336188, b = 3.976924896 \n",
      "Epoch: 600 , Cost = 0.567879081, W = 0.639368653, b = 4.093423843 \n",
      "Epoch: 650 , Cost = 0.546095312, W = 0.624355555, b = 4.196502209 \n",
      "Epoch: 700 , Cost = 0.529067755, W = 0.611082673, b = 4.287628174 \n",
      "Epoch: 750 , Cost = 0.515754163, W = 0.599344909, b = 4.368210316 \n",
      "Epoch: 800 , Cost = 0.505349398, W = 0.588971734, b = 4.439433098 \n",
      "Epoch: 850 , Cost = 0.497206837, W = 0.579790950, b = 4.502471447 \n",
      "Epoch: 900 , Cost = 0.490839511, W = 0.571669161, b = 4.558230400 \n",
      "Epoch: 950 , Cost = 0.485865504, W = 0.564492047, b = 4.607497215 \n",
      "Epoch: 1000 , Cost = 0.481974274, W = 0.558142960, b = 4.651092529 \n",
      "\n",
      "Training cost: 0.481974274, W = 0.558142960, b = 4.651092529 \n"
     ]
    },
    {
     "data": {
      "image/png": "[encoded data removed]",
      "text/plain": [
       "<matplotlib.figure.Figure at 0x240a5651550>"
      ]
     },
     "metadata": {},
     "output_type": "display_data"
    }
   ],
   "source": [
    "# Start training\n",
    "with tf.Session() as sess:\n",
    "    \n",
    "    sess.run(init)\n",
    "    #fit all training_data\n",
    "    for epoch in range(training_epoch):\n",
    "        for (x, y) in zip(train_x, train_y):\n",
    "            sess.run(optimizer, feed_dict={X:x, Y: y})\n",
    "            \n",
    "        #display log per epoch\n",
    "        if (epoch+1) % display_step == 0:\n",
    "            c = sess.run(cost, feed_dict= {X: train_x, Y: train_y})\n",
    "            print(\"Epoch: {} , Cost = {:.9f}, W = {:.9f}, b = {:.9f} \".format((epoch+1), c, sess.run(W), sess.run(b)))\n",
    "            \n",
    "    #Optimization_finished\n",
    "    final_cost = sess.run(cost, feed_dict={X: train_x, Y: train_y})\n",
    "    print(\"\\nTraining cost: {:.9f}, W = {:.9f}, b = {:.9f} \".format(final_cost, sess.run(W), sess.run(b)))\n",
    "    \n",
    "    pred = sess.run(W) * train_x + sess.run(b)\n",
    "    \n",
    "    plt.plot(train_x, train_y, 'bo', label='original_data')\n",
    "    plt.plot(train_x, pred, label = 'fitted_line', color='red')\n",
    "    plt.legend()\n",
    "    plt.show()\n",
    "  "
   ]
  },
  {
   "cell_type": "code",
   "execution_count": null,
   "metadata": {
    "collapsed": true
   },
   "outputs": [],
   "source": []
  }
 ],
 "metadata": {
  "kernelspec": {
   "display_name": "Python 3",
   "language": "python",
   "name": "python3"
  },
  "language_info": {
   "codemirror_mode": {
    "name": "ipython",
    "version": 3
   },
   "file_extension": ".py",
   "mimetype": "text/x-python",
   "name": "python",
   "nbconvert_exporter": "python",
   "pygments_lexer": "ipython3",
   "version": "3.5.4"
  }
 },
 "nbformat": 4,
 "nbformat_minor": 2
}
