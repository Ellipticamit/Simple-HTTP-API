{
 "cells": [
  {
   "cell_type": "markdown",
   "metadata": {},
   "source": [
    "# Mini Tensorflow Framework in Python"
   ]
  },
  {
   "cell_type": "code",
   "execution_count": 1,
   "metadata": {
    "collapsed": true
   },
   "outputs": [],
   "source": [
    "class Operation():\n",
    "    \"\"\"\n",
    "    A Operation is a node in a Graph. Tensorflow uses the same concept of a Graph.\n",
    "    \n",
    "    Operation class will be inherited by the other classes that actually compute the sepecific operation,\n",
    "    like addition and multiplication\n",
    "    \"\"\"\n",
    "    def __init__(self, input_nodes = []):\n",
    "        \"\"\"\n",
    "            Initalize the Operation \n",
    "        \"\"\"\n",
    "        self.input_nodes = input_nodes # the list of input nodes\n",
    "        self.output_nodes = [] # list of nodes to consuming the node's output\n",
    "        \n",
    "        # For every node in the input, we append this operation (self) to the list of\n",
    "        # the consumers of the input nodes\n",
    "        \n",
    "        # For every input node in the input, append this operation (self) to the list of the consumers of the input node\n",
    "        for node in input_nodes:\n",
    "            node.output_nodes.append(self)\n",
    "            \n",
    "        # There will be a global default graph (TensorFlow works this way)\n",
    "        # We will then append this particular operation\n",
    "        # Append this operation to the list of operations in the currently active default graph\n",
    "        _default_graph.operations.append(self)\n",
    "            \n",
    "    def compute(self):\n",
    "        '''\n",
    "        This is a placeholder function. It will be overwritten by the actual specific operation\n",
    "        that inherits from this class.\n",
    "        '''\n",
    "        pass\n",
    "    \n",
    "    "
   ]
  },
  {
   "cell_type": "code",
   "execution_count": 2,
   "metadata": {
    "collapsed": true
   },
   "outputs": [],
   "source": [
    "#Additon Class\n",
    "class add(Operation):\n",
    "    \n",
    "    def __init__(self, x, y):\n",
    "        \n",
    "        super().__init__([x, y]) # initialize the operation class constructor\n",
    "        \n",
    "    def compute(self, x_var, y_var):\n",
    "        self.inputs = [x_var, y_var]\n",
    "        return x_var+y_var"
   ]
  },
  {
   "cell_type": "code",
   "execution_count": 3,
   "metadata": {
    "collapsed": true
   },
   "outputs": [],
   "source": [
    "#Multiplication Class\n",
    "class multiply(Operation):\n",
    "    \n",
    "    def __init__(self, a, b):\n",
    "        \n",
    "        super().__init__([a,b]) # initialize the operation class constructor\n",
    "        \n",
    "    def compute(self, a_var, b_var):\n",
    "        \n",
    "        self.inputs = [a_var, b_var]\n",
    "        return a_var * b_var"
   ]
  },
  {
   "cell_type": "code",
   "execution_count": 4,
   "metadata": {
    "collapsed": true,
    "scrolled": true
   },
   "outputs": [],
   "source": [
    "#matrix multiplication class\n",
    "class matmul(Operation):\n",
    "    \n",
    "    def __init__(self, a_mat, b_mat):\n",
    "        \n",
    "        super().__init__([a_mat, b_mat]) # initialize the operation class constructor\n",
    "        \n",
    "    def compute(self, a_mat, b_mat):\n",
    "        \n",
    "        self.inputs = [a_mat, b_mat]\n",
    "        return a_mat.dot(b_mat)"
   ]
  },
  {
   "cell_type": "code",
   "execution_count": 5,
   "metadata": {
    "collapsed": true
   },
   "outputs": [],
   "source": [
    "class Placeholder():\n",
    "    \"\"\"\n",
    "    A Placeholder is a node that needs to be provided a value for computing the object in the Graph\n",
    "    \"\"\"\n",
    "    def __init__(self):\n",
    "        \n",
    "        self.output_nodes = []\n",
    "        \n",
    "        _default_graph.placeholders.append(self)"
   ]
  },
  {
   "cell_type": "code",
   "execution_count": 6,
   "metadata": {
    "collapsed": true
   },
   "outputs": [],
   "source": [
    "class Variable():\n",
    "    \"\"\"\n",
    "    A variable is the changeable parameter of the Graph\n",
    "    \"\"\"\n",
    "    \n",
    "    def __init__(self, initial_value = None):\n",
    "        \n",
    "        self.value = initial_value\n",
    "        self.output_nodes = []\n",
    "        \n",
    "        _default_graph.variables.append(self)"
   ]
  },
  {
   "cell_type": "code",
   "execution_count": 7,
   "metadata": {
    "collapsed": true
   },
   "outputs": [],
   "source": [
    "class Graph():\n",
    "    \n",
    "    def __init__(self):\n",
    "        \n",
    "        self.operations = []\n",
    "        self.placeholders = []\n",
    "        self.variables = []\n",
    "        \n",
    "    def set_as_default(self):\n",
    "        \"\"\"\n",
    "        Sets this Graph Instance as the Global Default Graph\n",
    "        \"\"\"\n",
    "        global _default_graph\n",
    "        _default_graph = self\n",
    "        "
   ]
  },
  {
   "cell_type": "markdown",
   "metadata": {},
   "source": [
    "## A Basic Graph\n",
    "\n",
    "$$ z = Ax + b $$\n",
    "\n",
    "With A = 10 and b = 1\n",
    "\n",
    "$$ z = 10x + 1 $$\n",
    "\n",
    "Here we just need a Placeholder for x and then we can solve it."
   ]
  },
  {
   "cell_type": "code",
   "execution_count": 8,
   "metadata": {
    "collapsed": true
   },
   "outputs": [],
   "source": [
    "# Lets get started\n",
    "g = Graph() # create an object g from Graph class\n",
    "g.set_as_default() # set the graph instance as globally "
   ]
  },
  {
   "cell_type": "code",
   "execution_count": 9,
   "metadata": {},
   "outputs": [],
   "source": [
    "# Create the Variable A and b\n",
    "A = Variable(10)\n",
    "b = Variable(1)"
   ]
  },
  {
   "cell_type": "code",
   "execution_count": 10,
   "metadata": {
    "collapsed": true
   },
   "outputs": [],
   "source": [
    "#Will fill the value later \n",
    "x = Placeholder()"
   ]
  },
  {
   "cell_type": "code",
   "execution_count": 11,
   "metadata": {},
   "outputs": [],
   "source": [
    "y = multiply(A,x)"
   ]
  },
  {
   "cell_type": "code",
   "execution_count": 12,
   "metadata": {
    "collapsed": true
   },
   "outputs": [],
   "source": [
    "z = add(y,b)"
   ]
  },
  {
   "cell_type": "markdown",
   "metadata": {},
   "source": [
    "# Session "
   ]
  },
  {
   "cell_type": "code",
   "execution_count": 13,
   "metadata": {
    "collapsed": true
   },
   "outputs": [],
   "source": [
    "import numpy as np"
   ]
  },
  {
   "cell_type": "code",
   "execution_count": 14,
   "metadata": {
    "collapsed": true
   },
   "outputs": [],
   "source": [
    "# Traversing Operation Nodes\n",
    "\n",
    "def traverse_postorder(operation):\n",
    "    \"\"\" \n",
    "    PostOrder Traversal of Nodes. This makes sure computations are done in \n",
    "    the correct order (Ax first , then Ax + b). \n",
    "    \"\"\"\n",
    "    nodes_postorder = []\n",
    "    def recurse(node):\n",
    "        if isinstance(node, Operation):\n",
    "            for input_node in node.input_nodes:\n",
    "                recurse(input_node)\n",
    "        nodes_postorder.append(node)\n",
    "\n",
    "    recurse(operation)\n",
    "    return nodes_postorder"
   ]
  },
  {
   "cell_type": "code",
   "execution_count": 15,
   "metadata": {
    "collapsed": true
   },
   "outputs": [],
   "source": [
    "class Session():\n",
    "    \n",
    "    def run(self, operation, feed_dict={}):\n",
    "        \"\"\"\n",
    "        Operation: to compute\n",
    "        feed_dict : to pass the value to placeholder \n",
    "        \"\"\"\n",
    "        \n",
    "        #put nodes in correct order\n",
    "        nodes_postorder = traverse_postorder(operation)\n",
    "        \n",
    "        for node in nodes_postorder:\n",
    "            \n",
    "            if type(node) == Placeholder:\n",
    "                \n",
    "                node.output = feed_dict[node]\n",
    "            \n",
    "            elif type(node) == Variable:\n",
    "                \n",
    "                node.output = node.value\n",
    "                \n",
    "            else :\n",
    "                \n",
    "                node.inputs = [input_node.output for input_node in node.input_nodes]\n",
    "                \n",
    "                node.output = node.compute(*node.inputs)\n",
    "                \n",
    "            # Convert lists to numpy arrays\n",
    "            if type(node.output) == list:\n",
    "                node.output = np.array(node.output)\n",
    "         \n",
    "        #return the requested node\n",
    "        return operation.output"
   ]
  },
  {
   "cell_type": "code",
   "execution_count": 16,
   "metadata": {
    "collapsed": true
   },
   "outputs": [],
   "source": [
    "sess = Session()"
   ]
  },
  {
   "cell_type": "code",
   "execution_count": 17,
   "metadata": {},
   "outputs": [],
   "source": [
    "result = sess.run(operation=z,feed_dict={x:10})"
   ]
  },
  {
   "cell_type": "code",
   "execution_count": 18,
   "metadata": {},
   "outputs": [
    {
     "name": "stdout",
     "output_type": "stream",
     "text": [
      "101\n"
     ]
    }
   ],
   "source": [
    "print(result)"
   ]
  },
  {
   "cell_type": "code",
   "execution_count": 19,
   "metadata": {},
   "outputs": [
    {
     "data": {
      "text/plain": [
       "101"
      ]
     },
     "execution_count": 19,
     "metadata": {},
     "output_type": "execute_result"
    }
   ],
   "source": [
    "10*10 + 1"
   ]
  },
  {
   "cell_type": "code",
   "execution_count": 20,
   "metadata": {},
   "outputs": [],
   "source": [
    "# Lets try another example of matrix multiplication\n",
    "g = Graph() \n",
    "\n",
    "g.set_as_default() \n",
    "\n",
    "A = Variable([[10,10],[20,20]]) \n",
    "b = Variable([1,1])\n",
    "\n",
    "x = Placeholder()\n",
    "\n",
    "y = matmul(A, x)\n",
    "z = add(y, b)"
   ]
  },
  {
   "cell_type": "code",
   "execution_count": 21,
   "metadata": {},
   "outputs": [
    {
     "data": {
      "text/plain": [
       "array([[101, 101],\n",
       "       [201, 201]])"
      ]
     },
     "execution_count": 21,
     "metadata": {},
     "output_type": "execute_result"
    }
   ],
   "source": [
    "sess = Session()\n",
    "\n",
    "result = sess.run(operation=z, feed_dict={x:10})\n",
    "result"
   ]
  },
  {
   "cell_type": "markdown",
   "metadata": {},
   "source": [
    "# Looks like we created our own mini tensorflow framework"
   ]
  }
 ],
 "metadata": {
  "kernelspec": {
   "display_name": "Python 3",
   "language": "python",
   "name": "python3"
  },
  "language_info": {
   "codemirror_mode": {
    "name": "ipython",
    "version": 3
   },
   "file_extension": ".py",
   "mimetype": "text/x-python",
   "name": "python",
   "nbconvert_exporter": "python",
   "pygments_lexer": "ipython3",
   "version": "3.5.4"
  }
 },
 "nbformat": 4,
 "nbformat_minor": 2
}
